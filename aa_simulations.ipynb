{
 "cells": [
  {
   "cell_type": "code",
   "execution_count": 1,
   "id": "71aa0538",
   "metadata": {},
   "outputs": [],
   "source": [
    "import pandas as pd\n",
    "import numpy as np\n",
    "from scipy.stats import norm\n",
    "import plotly.graph_objects as go"
   ]
  },
  {
   "cell_type": "code",
   "execution_count": null,
   "id": "e889cf51",
   "metadata": {},
   "outputs": [],
   "source": [
    "def generate_daily_visitors(mean, sd, days):\n",
    "    return np.random.normal(mean, sd, days).astype(int)\n",
    "\n",
    "def generate_daily_purchasers(mean, sd, days):\n",
    "    return np.random.normal(mean, sd, days).astype(int)\n",
    "\n",
    "def calculate_z_score(p_control, p_variant, n_control, n_variant):\n",
    "    p_pool = (p_control * n_control + p_variant * n_variant) / (n_control + n_variant)\n",
    "    se = np.sqrt(p_pool * (1 - p_pool) * (1/n_control + 1/n_variant))\n",
    "    return (p_variant - p_control) / se\n",
    "\n",
    "\n",
    "def calculate_p_value(z_score):\n",
    "    return norm.sf(abs(z_score)) * 2  \n",
    "\n",
    "def simulate_aa_test(num_pairs, mean_visitors, sd_visitors, mean_purchasers, sd_purchasers, num_days):\n",
    "    results = []\n",
    "    p_values_list = []\n",
    "    \n",
    "    for instance in range(1, num_pairs + 1):\n",
    "        visitors_control = generate_daily_visitors(mean_visitors, sd_visitors, num_days)\n",
    "        visitors_variant = visitors_control  \n",
    "        purchasers_control = generate_daily_purchasers(mean_purchasers, sd_purchasers, num_days)\n",
    "        purchasers_variant = generate_daily_purchasers(mean_purchasers, sd_purchasers, num_days)\n",
    "        \n",
    "        cum_visitors_control, cum_visitors_variant = 0, 0\n",
    "        cum_purchasers_control, cum_purchasers_variant = 0, 0\n",
    "        false_positive_duration = False\n",
    "        false_positive_weekly = False\n",
    "        false_positive_continuous = False\n",
    "        \n",
    "        for day in range(1, num_days + 1):\n",
    "            cum_visitors_control += visitors_control[day - 1]\n",
    "            cum_visitors_variant += visitors_variant[day - 1]\n",
    "            cum_purchasers_control += purchasers_control[day - 1]\n",
    "            cum_purchasers_variant += purchasers_variant[day - 1]\n",
    "            \n",
    "            p_control = cum_purchasers_control / cum_visitors_control\n",
    "            p_variant = cum_purchasers_variant / cum_visitors_variant\n",
    "            \n",
    "            z_score = calculate_z_score(p_control, p_variant, cum_visitors_control, cum_visitors_variant)\n",
    "            p_value = calculate_p_value(z_score)\n",
    "            \n",
    "            p_values_list.append({'Day': day, 'Instance': instance, 'P_Value': p_value})\n",
    "            \n",
    "            if day == num_days and p_value < 0.05:\n",
    "                false_positive_duration = True\n",
    "            if day % 7 == 0 and p_value < 0.05:\n",
    "                false_positive_weekly = True\n",
    "            if p_value < 0.05:\n",
    "                false_positive_continuous = True\n",
    "        \n",
    "        results.append({\n",
    "            'Instance': instance,\n",
    "            'False_Positive_Duration': false_positive_duration,\n",
    "            'False_Positive_Weekly': false_positive_weekly,\n",
    "            'False_Positive_Continuous': false_positive_continuous\n",
    "        })\n",
    "    \n",
    "    return pd.DataFrame(results), pd.DataFrame(p_values_list)\n"
   ]
  },
  {
   "cell_type": "code",
   "execution_count": 8,
   "id": "48050b6c",
   "metadata": {},
   "outputs": [],
   "source": [
    "# Parameters\n",
    "num_pairs = 1000  \n",
    "mean_visitors = 1000000\n",
    "sd_visitors = 0\n",
    "num_days = 28\n",
    "mean_purchasers = 120000\n",
    "sd_purchasers = 324.96\n",
    "\n",
    "\n",
    "df_results, df_p_values = simulate_aa_test(num_pairs, mean_visitors, sd_visitors, mean_purchasers, sd_purchasers, num_days)\n",
    "\n"
   ]
  },
  {
   "cell_type": "code",
   "execution_count": 10,
   "id": "dead6f5e",
   "metadata": {},
   "outputs": [
    {
     "data": {
      "application/vnd.plotly.v1+json": {
       "config": {
        "plotlyServerURL": "https://plot.ly"
       },
       "data": [
        {
         "text": [
          "4.70%"
         ],
         "textposition": "auto",
         "type": "bar",
         "x": [
          "Duration"
         ],
         "y": [
          0.047
         ]
        },
        {
         "text": [
          "11.90%"
         ],
         "textposition": "auto",
         "type": "bar",
         "x": [
          "Weekly Peeking"
         ],
         "y": [
          0.119
         ]
        },
        {
         "text": [
          "28.10%"
         ],
         "textposition": "auto",
         "type": "bar",
         "x": [
          "Continuous Peeking"
         ],
         "y": [
          0.281
         ]
        }
       ],
       "layout": {
        "template": {
         "data": {
          "bar": [
           {
            "error_x": {
             "color": "#2a3f5f"
            },
            "error_y": {
             "color": "#2a3f5f"
            },
            "marker": {
             "line": {
              "color": "#E5ECF6",
              "width": 0.5
             },
             "pattern": {
              "fillmode": "overlay",
              "size": 10,
              "solidity": 0.2
             }
            },
            "type": "bar"
           }
          ],
          "barpolar": [
           {
            "marker": {
             "line": {
              "color": "#E5ECF6",
              "width": 0.5
             },
             "pattern": {
              "fillmode": "overlay",
              "size": 10,
              "solidity": 0.2
             }
            },
            "type": "barpolar"
           }
          ],
          "carpet": [
           {
            "aaxis": {
             "endlinecolor": "#2a3f5f",
             "gridcolor": "white",
             "linecolor": "white",
             "minorgridcolor": "white",
             "startlinecolor": "#2a3f5f"
            },
            "baxis": {
             "endlinecolor": "#2a3f5f",
             "gridcolor": "white",
             "linecolor": "white",
             "minorgridcolor": "white",
             "startlinecolor": "#2a3f5f"
            },
            "type": "carpet"
           }
          ],
          "choropleth": [
           {
            "colorbar": {
             "outlinewidth": 0,
             "ticks": ""
            },
            "type": "choropleth"
           }
          ],
          "contour": [
           {
            "colorbar": {
             "outlinewidth": 0,
             "ticks": ""
            },
            "colorscale": [
             [
              0,
              "#0d0887"
             ],
             [
              0.1111111111111111,
              "#46039f"
             ],
             [
              0.2222222222222222,
              "#7201a8"
             ],
             [
              0.3333333333333333,
              "#9c179e"
             ],
             [
              0.4444444444444444,
              "#bd3786"
             ],
             [
              0.5555555555555556,
              "#d8576b"
             ],
             [
              0.6666666666666666,
              "#ed7953"
             ],
             [
              0.7777777777777778,
              "#fb9f3a"
             ],
             [
              0.8888888888888888,
              "#fdca26"
             ],
             [
              1,
              "#f0f921"
             ]
            ],
            "type": "contour"
           }
          ],
          "contourcarpet": [
           {
            "colorbar": {
             "outlinewidth": 0,
             "ticks": ""
            },
            "type": "contourcarpet"
           }
          ],
          "heatmap": [
           {
            "colorbar": {
             "outlinewidth": 0,
             "ticks": ""
            },
            "colorscale": [
             [
              0,
              "#0d0887"
             ],
             [
              0.1111111111111111,
              "#46039f"
             ],
             [
              0.2222222222222222,
              "#7201a8"
             ],
             [
              0.3333333333333333,
              "#9c179e"
             ],
             [
              0.4444444444444444,
              "#bd3786"
             ],
             [
              0.5555555555555556,
              "#d8576b"
             ],
             [
              0.6666666666666666,
              "#ed7953"
             ],
             [
              0.7777777777777778,
              "#fb9f3a"
             ],
             [
              0.8888888888888888,
              "#fdca26"
             ],
             [
              1,
              "#f0f921"
             ]
            ],
            "type": "heatmap"
           }
          ],
          "histogram": [
           {
            "marker": {
             "pattern": {
              "fillmode": "overlay",
              "size": 10,
              "solidity": 0.2
             }
            },
            "type": "histogram"
           }
          ],
          "histogram2d": [
           {
            "colorbar": {
             "outlinewidth": 0,
             "ticks": ""
            },
            "colorscale": [
             [
              0,
              "#0d0887"
             ],
             [
              0.1111111111111111,
              "#46039f"
             ],
             [
              0.2222222222222222,
              "#7201a8"
             ],
             [
              0.3333333333333333,
              "#9c179e"
             ],
             [
              0.4444444444444444,
              "#bd3786"
             ],
             [
              0.5555555555555556,
              "#d8576b"
             ],
             [
              0.6666666666666666,
              "#ed7953"
             ],
             [
              0.7777777777777778,
              "#fb9f3a"
             ],
             [
              0.8888888888888888,
              "#fdca26"
             ],
             [
              1,
              "#f0f921"
             ]
            ],
            "type": "histogram2d"
           }
          ],
          "histogram2dcontour": [
           {
            "colorbar": {
             "outlinewidth": 0,
             "ticks": ""
            },
            "colorscale": [
             [
              0,
              "#0d0887"
             ],
             [
              0.1111111111111111,
              "#46039f"
             ],
             [
              0.2222222222222222,
              "#7201a8"
             ],
             [
              0.3333333333333333,
              "#9c179e"
             ],
             [
              0.4444444444444444,
              "#bd3786"
             ],
             [
              0.5555555555555556,
              "#d8576b"
             ],
             [
              0.6666666666666666,
              "#ed7953"
             ],
             [
              0.7777777777777778,
              "#fb9f3a"
             ],
             [
              0.8888888888888888,
              "#fdca26"
             ],
             [
              1,
              "#f0f921"
             ]
            ],
            "type": "histogram2dcontour"
           }
          ],
          "mesh3d": [
           {
            "colorbar": {
             "outlinewidth": 0,
             "ticks": ""
            },
            "type": "mesh3d"
           }
          ],
          "parcoords": [
           {
            "line": {
             "colorbar": {
              "outlinewidth": 0,
              "ticks": ""
             }
            },
            "type": "parcoords"
           }
          ],
          "pie": [
           {
            "automargin": true,
            "type": "pie"
           }
          ],
          "scatter": [
           {
            "fillpattern": {
             "fillmode": "overlay",
             "size": 10,
             "solidity": 0.2
            },
            "type": "scatter"
           }
          ],
          "scatter3d": [
           {
            "line": {
             "colorbar": {
              "outlinewidth": 0,
              "ticks": ""
             }
            },
            "marker": {
             "colorbar": {
              "outlinewidth": 0,
              "ticks": ""
             }
            },
            "type": "scatter3d"
           }
          ],
          "scattercarpet": [
           {
            "marker": {
             "colorbar": {
              "outlinewidth": 0,
              "ticks": ""
             }
            },
            "type": "scattercarpet"
           }
          ],
          "scattergeo": [
           {
            "marker": {
             "colorbar": {
              "outlinewidth": 0,
              "ticks": ""
             }
            },
            "type": "scattergeo"
           }
          ],
          "scattergl": [
           {
            "marker": {
             "colorbar": {
              "outlinewidth": 0,
              "ticks": ""
             }
            },
            "type": "scattergl"
           }
          ],
          "scattermap": [
           {
            "marker": {
             "colorbar": {
              "outlinewidth": 0,
              "ticks": ""
             }
            },
            "type": "scattermap"
           }
          ],
          "scattermapbox": [
           {
            "marker": {
             "colorbar": {
              "outlinewidth": 0,
              "ticks": ""
             }
            },
            "type": "scattermapbox"
           }
          ],
          "scatterpolar": [
           {
            "marker": {
             "colorbar": {
              "outlinewidth": 0,
              "ticks": ""
             }
            },
            "type": "scatterpolar"
           }
          ],
          "scatterpolargl": [
           {
            "marker": {
             "colorbar": {
              "outlinewidth": 0,
              "ticks": ""
             }
            },
            "type": "scatterpolargl"
           }
          ],
          "scatterternary": [
           {
            "marker": {
             "colorbar": {
              "outlinewidth": 0,
              "ticks": ""
             }
            },
            "type": "scatterternary"
           }
          ],
          "surface": [
           {
            "colorbar": {
             "outlinewidth": 0,
             "ticks": ""
            },
            "colorscale": [
             [
              0,
              "#0d0887"
             ],
             [
              0.1111111111111111,
              "#46039f"
             ],
             [
              0.2222222222222222,
              "#7201a8"
             ],
             [
              0.3333333333333333,
              "#9c179e"
             ],
             [
              0.4444444444444444,
              "#bd3786"
             ],
             [
              0.5555555555555556,
              "#d8576b"
             ],
             [
              0.6666666666666666,
              "#ed7953"
             ],
             [
              0.7777777777777778,
              "#fb9f3a"
             ],
             [
              0.8888888888888888,
              "#fdca26"
             ],
             [
              1,
              "#f0f921"
             ]
            ],
            "type": "surface"
           }
          ],
          "table": [
           {
            "cells": {
             "fill": {
              "color": "#EBF0F8"
             },
             "line": {
              "color": "white"
             }
            },
            "header": {
             "fill": {
              "color": "#C8D4E3"
             },
             "line": {
              "color": "white"
             }
            },
            "type": "table"
           }
          ]
         },
         "layout": {
          "annotationdefaults": {
           "arrowcolor": "#2a3f5f",
           "arrowhead": 0,
           "arrowwidth": 1
          },
          "autotypenumbers": "strict",
          "coloraxis": {
           "colorbar": {
            "outlinewidth": 0,
            "ticks": ""
           }
          },
          "colorscale": {
           "diverging": [
            [
             0,
             "#8e0152"
            ],
            [
             0.1,
             "#c51b7d"
            ],
            [
             0.2,
             "#de77ae"
            ],
            [
             0.3,
             "#f1b6da"
            ],
            [
             0.4,
             "#fde0ef"
            ],
            [
             0.5,
             "#f7f7f7"
            ],
            [
             0.6,
             "#e6f5d0"
            ],
            [
             0.7,
             "#b8e186"
            ],
            [
             0.8,
             "#7fbc41"
            ],
            [
             0.9,
             "#4d9221"
            ],
            [
             1,
             "#276419"
            ]
           ],
           "sequential": [
            [
             0,
             "#0d0887"
            ],
            [
             0.1111111111111111,
             "#46039f"
            ],
            [
             0.2222222222222222,
             "#7201a8"
            ],
            [
             0.3333333333333333,
             "#9c179e"
            ],
            [
             0.4444444444444444,
             "#bd3786"
            ],
            [
             0.5555555555555556,
             "#d8576b"
            ],
            [
             0.6666666666666666,
             "#ed7953"
            ],
            [
             0.7777777777777778,
             "#fb9f3a"
            ],
            [
             0.8888888888888888,
             "#fdca26"
            ],
            [
             1,
             "#f0f921"
            ]
           ],
           "sequentialminus": [
            [
             0,
             "#0d0887"
            ],
            [
             0.1111111111111111,
             "#46039f"
            ],
            [
             0.2222222222222222,
             "#7201a8"
            ],
            [
             0.3333333333333333,
             "#9c179e"
            ],
            [
             0.4444444444444444,
             "#bd3786"
            ],
            [
             0.5555555555555556,
             "#d8576b"
            ],
            [
             0.6666666666666666,
             "#ed7953"
            ],
            [
             0.7777777777777778,
             "#fb9f3a"
            ],
            [
             0.8888888888888888,
             "#fdca26"
            ],
            [
             1,
             "#f0f921"
            ]
           ]
          },
          "colorway": [
           "#636efa",
           "#EF553B",
           "#00cc96",
           "#ab63fa",
           "#FFA15A",
           "#19d3f3",
           "#FF6692",
           "#B6E880",
           "#FF97FF",
           "#FECB52"
          ],
          "font": {
           "color": "#2a3f5f"
          },
          "geo": {
           "bgcolor": "white",
           "lakecolor": "white",
           "landcolor": "#E5ECF6",
           "showlakes": true,
           "showland": true,
           "subunitcolor": "white"
          },
          "hoverlabel": {
           "align": "left"
          },
          "hovermode": "closest",
          "mapbox": {
           "style": "light"
          },
          "paper_bgcolor": "white",
          "plot_bgcolor": "#E5ECF6",
          "polar": {
           "angularaxis": {
            "gridcolor": "white",
            "linecolor": "white",
            "ticks": ""
           },
           "bgcolor": "#E5ECF6",
           "radialaxis": {
            "gridcolor": "white",
            "linecolor": "white",
            "ticks": ""
           }
          },
          "scene": {
           "xaxis": {
            "backgroundcolor": "#E5ECF6",
            "gridcolor": "white",
            "gridwidth": 2,
            "linecolor": "white",
            "showbackground": true,
            "ticks": "",
            "zerolinecolor": "white"
           },
           "yaxis": {
            "backgroundcolor": "#E5ECF6",
            "gridcolor": "white",
            "gridwidth": 2,
            "linecolor": "white",
            "showbackground": true,
            "ticks": "",
            "zerolinecolor": "white"
           },
           "zaxis": {
            "backgroundcolor": "#E5ECF6",
            "gridcolor": "white",
            "gridwidth": 2,
            "linecolor": "white",
            "showbackground": true,
            "ticks": "",
            "zerolinecolor": "white"
           }
          },
          "shapedefaults": {
           "line": {
            "color": "#2a3f5f"
           }
          },
          "ternary": {
           "aaxis": {
            "gridcolor": "white",
            "linecolor": "white",
            "ticks": ""
           },
           "baxis": {
            "gridcolor": "white",
            "linecolor": "white",
            "ticks": ""
           },
           "bgcolor": "#E5ECF6",
           "caxis": {
            "gridcolor": "white",
            "linecolor": "white",
            "ticks": ""
           }
          },
          "title": {
           "x": 0.05
          },
          "xaxis": {
           "automargin": true,
           "gridcolor": "white",
           "linecolor": "white",
           "ticks": "",
           "title": {
            "standoff": 15
           },
           "zerolinecolor": "white",
           "zerolinewidth": 2
          },
          "yaxis": {
           "automargin": true,
           "gridcolor": "white",
           "linecolor": "white",
           "ticks": "",
           "title": {
            "standoff": 15
           },
           "zerolinecolor": "white",
           "zerolinewidth": 2
          }
         }
        },
        "title": {
         "text": "False Positive Rates Under Different Peeking Strategies"
        },
        "xaxis": {
         "title": {
          "text": "Peeking Strategy"
         }
        },
        "yaxis": {
         "tickformat": ".2%",
         "title": {
          "text": "False Positive Rate"
         }
        }
       }
      }
     },
     "metadata": {},
     "output_type": "display_data"
    }
   ],
   "source": [
    "def plot_false_positive_comparison(df):\n",
    "    false_positive_rates = {\n",
    "        \"Duration\": df['False_Positive_Duration'].mean(),\n",
    "        \"Weekly Peeking\": df['False_Positive_Weekly'].mean(),\n",
    "        \"Continuous Peeking\": df['False_Positive_Continuous'].mean()\n",
    "    }\n",
    "    \n",
    "    fig = go.Figure()\n",
    "    for key, value in false_positive_rates.items():\n",
    "        fig.add_trace(go.Bar(x=[key], y=[value], text=[f\"{value:.2%}\"], textposition='auto'))\n",
    "    \n",
    "    fig.update_layout(title=\"False Positive Rates Under Different Peeking Strategies\", \n",
    "                      yaxis=dict(tickformat=\".2%\"),\n",
    "                      xaxis_title=\"Peeking Strategy\",\n",
    "                      yaxis_title=\"False Positive Rate\")\n",
    "    fig.show()\n",
    "\n",
    "plot_false_positive_comparison(df_results)"
   ]
  },
  {
   "cell_type": "code",
   "execution_count": 12,
   "id": "4a2eba74",
   "metadata": {},
   "outputs": [
    {
     "data": {
      "application/vnd.plotly.v1+json": {
       "config": {
        "plotlyServerURL": "https://plot.ly"
       },
       "data": [
        {
         "mode": "lines",
         "name": "Instance 52",
         "type": "scatter",
         "x": {
          "bdata": "AQIDBAUGBwgJCgsMDQ4PEBESExQVFhcYGRobHA==",
          "dtype": "i1"
         },
         "y": {
          "bdata": "mE5Ft0DazT+kzEf+BhHUP4e4oBQF8rw/2A+34xpvjz+ZJ0fp9mmDP613en5dNpk/sELSKYS2kD8kJYu8FhePP9lgTukkc4s/Si70ZB3cij/+ODZT9ZWUP7P4+2X0HJ8/g+ow22BIpT8xts9hq326P4T/clQd47Q/vs3NDDqTlj/RLX+nvwyYPweZw5V396g/sCdpLoEMnj/nivpFmZaqP4QsoRynG6w/vtJm46BZqD8TH+n1gw6zP96ybII/c7A/LaiFHn2Joj/BU2Ab4DuiPy81uyr5uaE/zBNMego/kT8=",
          "dtype": "f8"
         }
        },
        {
         "mode": "lines",
         "name": "Instance 518",
         "type": "scatter",
         "x": {
          "bdata": "AQIDBAUGBwgJCgsMDQ4PEBESExQVFhcYGRobHA==",
          "dtype": "i1"
         },
         "y": {
          "bdata": "6P0vrKaq2D/q5RGxn07bPzRkSE3UkMQ/BuavQyR64T/MnaIjFwnpPzdGO7aL+ec/9oS+a0Px7D++fOaJGZvoPy72HLQJQOQ/2AU8c0Ws7D+tqqmKafHqP9EeZrwbS+w/Sagks6UE7T+fhqUkZ03vP96iMOvxUeM/WdAO+OP47z82MV/hIXztP/cAv76/lO8/REYn+1up6j+dzkoDU/3qP6dp0jc/3Os/aFxwzs7t7z950cBKEV3sP07Dnmscg+I/hDI1tHRX6D8IPItDaTXmP2fq12KdNuU/qh6Rcv304j8=",
          "dtype": "f8"
         }
        },
        {
         "mode": "lines",
         "name": "Instance 981",
         "type": "scatter",
         "x": {
          "bdata": "AQIDBAUGBwgJCgsMDQ4PEBESExQVFhcYGRobHA==",
          "dtype": "i1"
         },
         "y": {
          "bdata": "lHyEBqrd4j8E2ATK0wrrP21J2+bLFOg/PHPeeKwdxj/f+lqGgD27PwBRLfb8U7I/+ypqsnANmT/UoFXrvuGvP4a4zXizVqQ/Qv8uoHNKpj8dqNgZD3iiP5DviiHLx6U/gGPEHvQymz+biQjFkVmlPyxeXlpTsqg/WetQgTIksT/GoDzVMfqkP3TEAtJFZrY/rvViEBzOsT+zcKOvvWWbP0x1Vb4/IJ4/rlLCHgPEsj/nUv5WrGS1PynrIDGkUro/JlklBUrwuD/sVXtMWEO/P3ChN2mPGLo/7w54bES/vz8=",
          "dtype": "f8"
         }
        },
        {
         "mode": "lines",
         "name": "Instance 46",
         "type": "scatter",
         "x": {
          "bdata": "AQIDBAUGBwgJCgsMDQ4PEBESExQVFhcYGRobHA==",
          "dtype": "i1"
         },
         "y": {
          "bdata": "SDMG+mckzT/uGapmn7rkP9gI9vigLsg/Uvo7ex4O5z+KxpFI4GrlPwUUhRAuKe8/0hNfzaKb7D8jnb7T7S7sP/WDcwKiqOg/zz0g0GN97j/gthZUBEXrP10AulBfm+U/tF49Ud4y7z/jOGdXrLToPxKv4igi/Os/mTI7r5nD7j/T94JETvDqPyMnZEUBqOo/7YDKdh2J6z/+OgB9mF/uP2wNL+qaxu4/ti2ek3Sx7T8fdEL+JvXuP28K5Hal5uk/bmqlbqUQ6D+OIICI8RLvP0SHY5p4Ne8/ELYBQazj7D8=",
          "dtype": "f8"
         }
        },
        {
         "mode": "lines",
         "name": "Instance 935",
         "type": "scatter",
         "x": {
          "bdata": "AQIDBAUGBwgJCgsMDQ4PEBESExQVFhcYGRobHA==",
          "dtype": "i1"
         },
         "y": {
          "bdata": "yr6dju0M4D/s4xFPlDzLP3Qxj8T9H+k/sDebdgV24j8WgRgqooTaP7KOK3sJmts/FL5mjpFq5D9HJeWImrrsPyYI+ADbMek/ozMSbRWU7z9dB0jA4TnuP1MLBeJS6uY/nPg8JwZr6z+7Ei71rpfqP38ZaeDHmus/AAAAAAAA8D9LQAACKZfrP71MS2wI2+0/9wk+mYyC7j9aGZUX4k/uP3o2jR762+o/bIuMGBKD6j8Y369AOU3oP3sGFK3RCus/X65Y90kO7z94BJyGkj/mP2X7ueJntOA/BDPJAmAX4T8=",
          "dtype": "f8"
         }
        },
        {
         "mode": "lines",
         "name": "Instance 202",
         "type": "scatter",
         "x": {
          "bdata": "AQIDBAUGBwgJCgsMDQ4PEBESExQVFhcYGRobHA==",
          "dtype": "i1"
         },
         "y": {
          "bdata": "4LafYIJZ4z92xaMMw6LUP6weXGAWBOg/pvFH21tS6j+ZCTIVZlXgPyCJtHeDeeI/JOx+eCYB6D9IN0b7V4/ZPw7ahp9aq9U/gD2yryRu4z8HqlK8PEPiP4sRGfbKTOY/YmPOZHB25j/t7LggTZ3kPxe1dlLbkOc/mJIYd6sW5T8R1tJscWvlP9r9yWdeCOI/LVveTuVp7z8veRd7qefrPwWwcMSd5e4/+n3MNUDl6z+Fd4tF2KPtP9Pa0hY1ue0/5SWxLnCJ7T/KhmTl4M7oPxUVok8i2ek/tvuo560S4z8=",
          "dtype": "f8"
         }
        },
        {
         "mode": "lines",
         "name": "Instance 640",
         "type": "scatter",
         "x": {
          "bdata": "AQIDBAUGBwgJCgsMDQ4PEBESExQVFhcYGRobHA==",
          "dtype": "i1"
         },
         "y": {
          "bdata": "tTCxfsD1pT9EYRRH0yipP6Cb9BZ2ZN0/3JoerR6H7j+Jz9Cyi5vnPxbByheEh+Q/fPgolAYM6D9EVrbpc9TfP6zTLOVMFMw/2LDQ9H3y1T+CwcZ7f9XjP9H0yyULhuY/nnCrIOvr5D9+xgD4RbXkP4WnMs5xfeY/GjogafUm6T8OGwXRaC3rP9N+KnCP2OM/mpIwIzMX3D8Yl8vuVs3cP/TAai8kxtQ/pegDBUmG4j8UAyHUagrZPygGS/VXvdU/knSMyLdX0z9W/zZ7W4PhP7xrksA/GOE/eKdZAfGp4T8=",
          "dtype": "f8"
         }
        },
        {
         "mode": "lines",
         "name": "Instance 248",
         "type": "scatter",
         "x": {
          "bdata": "AQIDBAUGBwgJCgsMDQ4PEBESExQVFhcYGRobHA==",
          "dtype": "i1"
         },
         "y": {
          "bdata": "hklyOG9H7z9MefgOt9LuP2LD3kZDIOs/TodTe5JC5D/SvSOEszblP4glVEX0Bd0/0tPMNndo1D/Hfea99HrkP5nE9citz+Q/3INjtR1e7z9r4BsTG77sP2USYcPp/ew/pVnlijTk7T9x6XSumPPiP5pj6RsqSuE/cIljqw7I2z80TJmAIkjgP8bGpUYM2eA/FKpc+IUv1z+yixKCSuHTPyRrgQtTFNY/jueEquLv2j8nkLXELhLgPxQ8SrNWFdY/HTh3OdK74D/ofhsZCgvTP4C5AMdrT9g/FE3Fj8b91T8=",
          "dtype": "f8"
         }
        },
        {
         "mode": "lines",
         "name": "Instance 655",
         "type": "scatter",
         "x": {
          "bdata": "AQIDBAUGBwgJCgsMDQ4PEBESExQVFhcYGRobHA==",
          "dtype": "i1"
         },
         "y": {
          "bdata": "YsciTOag2j+Gcu3emvPhP0BTg3dw3uE/DIwAIykX3D+8Dyfl3JLTPyA0Kdv/0ME/8ECZtIRczj+eE3UFfh/SPwjXCqz1mMs/FNOP9F6tyz+wECPPqmTMP4hUN/nrz8Q/1gOc5rB+wT9RK5SowNy5PyJbGpqy0NE/GnJJl+480j/Gn8LKdh/SP/oE2vHqMdE/frMjOUFF0D+Y8yJbRtnTP5KE5HOf59o/kqMs/tza4j+vTDBTzI3mP+BUifIO1Og/s8datlud7T8uXBVqcgruP/fiNX10DO8/gSntHSSi6j8=",
          "dtype": "f8"
         }
        },
        {
         "mode": "lines",
         "name": "Instance 489",
         "type": "scatter",
         "x": {
          "bdata": "AQIDBAUGBwgJCgsMDQ4PEBESExQVFhcYGRobHA==",
          "dtype": "i1"
         },
         "y": {
          "bdata": "jMcMjV3gZT+i7RWC0wqtP8QVrnGR6s0/jBqbhNfr2j9whvB187LJP97Nrix9CrQ/wj8jT/Qj1D9Ss2awKtnaP5ZfVF+mCOw/JeOfGikN7z9AGZz936HrPxlPamEMc+k/vjV4rRg96T/NWXYbUyzrP3dSgQLfc+g//C/X0nmN6D8dLTmn4QjuPxESqFt3OO4/gM2cW/nV7T/KGFef7izsPwK+dkvCHeg/joSF2tnD4z/uHm/llhLlPzicNWQPluo/prdRbxGT6j/8nDB8kjLlPwyEMCNOAug/7GyWizVK7j8=",
          "dtype": "f8"
         }
        },
        {
         "line": {
          "color": "red",
          "dash": "dash"
         },
         "mode": "lines",
         "name": "Significance Threshold",
         "type": "scatter",
         "x": [
          1,
          28
         ],
         "y": [
          0.05,
          0.05
         ]
        }
       ],
       "layout": {
        "template": {
         "data": {
          "bar": [
           {
            "error_x": {
             "color": "#2a3f5f"
            },
            "error_y": {
             "color": "#2a3f5f"
            },
            "marker": {
             "line": {
              "color": "#E5ECF6",
              "width": 0.5
             },
             "pattern": {
              "fillmode": "overlay",
              "size": 10,
              "solidity": 0.2
             }
            },
            "type": "bar"
           }
          ],
          "barpolar": [
           {
            "marker": {
             "line": {
              "color": "#E5ECF6",
              "width": 0.5
             },
             "pattern": {
              "fillmode": "overlay",
              "size": 10,
              "solidity": 0.2
             }
            },
            "type": "barpolar"
           }
          ],
          "carpet": [
           {
            "aaxis": {
             "endlinecolor": "#2a3f5f",
             "gridcolor": "white",
             "linecolor": "white",
             "minorgridcolor": "white",
             "startlinecolor": "#2a3f5f"
            },
            "baxis": {
             "endlinecolor": "#2a3f5f",
             "gridcolor": "white",
             "linecolor": "white",
             "minorgridcolor": "white",
             "startlinecolor": "#2a3f5f"
            },
            "type": "carpet"
           }
          ],
          "choropleth": [
           {
            "colorbar": {
             "outlinewidth": 0,
             "ticks": ""
            },
            "type": "choropleth"
           }
          ],
          "contour": [
           {
            "colorbar": {
             "outlinewidth": 0,
             "ticks": ""
            },
            "colorscale": [
             [
              0,
              "#0d0887"
             ],
             [
              0.1111111111111111,
              "#46039f"
             ],
             [
              0.2222222222222222,
              "#7201a8"
             ],
             [
              0.3333333333333333,
              "#9c179e"
             ],
             [
              0.4444444444444444,
              "#bd3786"
             ],
             [
              0.5555555555555556,
              "#d8576b"
             ],
             [
              0.6666666666666666,
              "#ed7953"
             ],
             [
              0.7777777777777778,
              "#fb9f3a"
             ],
             [
              0.8888888888888888,
              "#fdca26"
             ],
             [
              1,
              "#f0f921"
             ]
            ],
            "type": "contour"
           }
          ],
          "contourcarpet": [
           {
            "colorbar": {
             "outlinewidth": 0,
             "ticks": ""
            },
            "type": "contourcarpet"
           }
          ],
          "heatmap": [
           {
            "colorbar": {
             "outlinewidth": 0,
             "ticks": ""
            },
            "colorscale": [
             [
              0,
              "#0d0887"
             ],
             [
              0.1111111111111111,
              "#46039f"
             ],
             [
              0.2222222222222222,
              "#7201a8"
             ],
             [
              0.3333333333333333,
              "#9c179e"
             ],
             [
              0.4444444444444444,
              "#bd3786"
             ],
             [
              0.5555555555555556,
              "#d8576b"
             ],
             [
              0.6666666666666666,
              "#ed7953"
             ],
             [
              0.7777777777777778,
              "#fb9f3a"
             ],
             [
              0.8888888888888888,
              "#fdca26"
             ],
             [
              1,
              "#f0f921"
             ]
            ],
            "type": "heatmap"
           }
          ],
          "histogram": [
           {
            "marker": {
             "pattern": {
              "fillmode": "overlay",
              "size": 10,
              "solidity": 0.2
             }
            },
            "type": "histogram"
           }
          ],
          "histogram2d": [
           {
            "colorbar": {
             "outlinewidth": 0,
             "ticks": ""
            },
            "colorscale": [
             [
              0,
              "#0d0887"
             ],
             [
              0.1111111111111111,
              "#46039f"
             ],
             [
              0.2222222222222222,
              "#7201a8"
             ],
             [
              0.3333333333333333,
              "#9c179e"
             ],
             [
              0.4444444444444444,
              "#bd3786"
             ],
             [
              0.5555555555555556,
              "#d8576b"
             ],
             [
              0.6666666666666666,
              "#ed7953"
             ],
             [
              0.7777777777777778,
              "#fb9f3a"
             ],
             [
              0.8888888888888888,
              "#fdca26"
             ],
             [
              1,
              "#f0f921"
             ]
            ],
            "type": "histogram2d"
           }
          ],
          "histogram2dcontour": [
           {
            "colorbar": {
             "outlinewidth": 0,
             "ticks": ""
            },
            "colorscale": [
             [
              0,
              "#0d0887"
             ],
             [
              0.1111111111111111,
              "#46039f"
             ],
             [
              0.2222222222222222,
              "#7201a8"
             ],
             [
              0.3333333333333333,
              "#9c179e"
             ],
             [
              0.4444444444444444,
              "#bd3786"
             ],
             [
              0.5555555555555556,
              "#d8576b"
             ],
             [
              0.6666666666666666,
              "#ed7953"
             ],
             [
              0.7777777777777778,
              "#fb9f3a"
             ],
             [
              0.8888888888888888,
              "#fdca26"
             ],
             [
              1,
              "#f0f921"
             ]
            ],
            "type": "histogram2dcontour"
           }
          ],
          "mesh3d": [
           {
            "colorbar": {
             "outlinewidth": 0,
             "ticks": ""
            },
            "type": "mesh3d"
           }
          ],
          "parcoords": [
           {
            "line": {
             "colorbar": {
              "outlinewidth": 0,
              "ticks": ""
             }
            },
            "type": "parcoords"
           }
          ],
          "pie": [
           {
            "automargin": true,
            "type": "pie"
           }
          ],
          "scatter": [
           {
            "fillpattern": {
             "fillmode": "overlay",
             "size": 10,
             "solidity": 0.2
            },
            "type": "scatter"
           }
          ],
          "scatter3d": [
           {
            "line": {
             "colorbar": {
              "outlinewidth": 0,
              "ticks": ""
             }
            },
            "marker": {
             "colorbar": {
              "outlinewidth": 0,
              "ticks": ""
             }
            },
            "type": "scatter3d"
           }
          ],
          "scattercarpet": [
           {
            "marker": {
             "colorbar": {
              "outlinewidth": 0,
              "ticks": ""
             }
            },
            "type": "scattercarpet"
           }
          ],
          "scattergeo": [
           {
            "marker": {
             "colorbar": {
              "outlinewidth": 0,
              "ticks": ""
             }
            },
            "type": "scattergeo"
           }
          ],
          "scattergl": [
           {
            "marker": {
             "colorbar": {
              "outlinewidth": 0,
              "ticks": ""
             }
            },
            "type": "scattergl"
           }
          ],
          "scattermap": [
           {
            "marker": {
             "colorbar": {
              "outlinewidth": 0,
              "ticks": ""
             }
            },
            "type": "scattermap"
           }
          ],
          "scattermapbox": [
           {
            "marker": {
             "colorbar": {
              "outlinewidth": 0,
              "ticks": ""
             }
            },
            "type": "scattermapbox"
           }
          ],
          "scatterpolar": [
           {
            "marker": {
             "colorbar": {
              "outlinewidth": 0,
              "ticks": ""
             }
            },
            "type": "scatterpolar"
           }
          ],
          "scatterpolargl": [
           {
            "marker": {
             "colorbar": {
              "outlinewidth": 0,
              "ticks": ""
             }
            },
            "type": "scatterpolargl"
           }
          ],
          "scatterternary": [
           {
            "marker": {
             "colorbar": {
              "outlinewidth": 0,
              "ticks": ""
             }
            },
            "type": "scatterternary"
           }
          ],
          "surface": [
           {
            "colorbar": {
             "outlinewidth": 0,
             "ticks": ""
            },
            "colorscale": [
             [
              0,
              "#0d0887"
             ],
             [
              0.1111111111111111,
              "#46039f"
             ],
             [
              0.2222222222222222,
              "#7201a8"
             ],
             [
              0.3333333333333333,
              "#9c179e"
             ],
             [
              0.4444444444444444,
              "#bd3786"
             ],
             [
              0.5555555555555556,
              "#d8576b"
             ],
             [
              0.6666666666666666,
              "#ed7953"
             ],
             [
              0.7777777777777778,
              "#fb9f3a"
             ],
             [
              0.8888888888888888,
              "#fdca26"
             ],
             [
              1,
              "#f0f921"
             ]
            ],
            "type": "surface"
           }
          ],
          "table": [
           {
            "cells": {
             "fill": {
              "color": "#EBF0F8"
             },
             "line": {
              "color": "white"
             }
            },
            "header": {
             "fill": {
              "color": "#C8D4E3"
             },
             "line": {
              "color": "white"
             }
            },
            "type": "table"
           }
          ]
         },
         "layout": {
          "annotationdefaults": {
           "arrowcolor": "#2a3f5f",
           "arrowhead": 0,
           "arrowwidth": 1
          },
          "autotypenumbers": "strict",
          "coloraxis": {
           "colorbar": {
            "outlinewidth": 0,
            "ticks": ""
           }
          },
          "colorscale": {
           "diverging": [
            [
             0,
             "#8e0152"
            ],
            [
             0.1,
             "#c51b7d"
            ],
            [
             0.2,
             "#de77ae"
            ],
            [
             0.3,
             "#f1b6da"
            ],
            [
             0.4,
             "#fde0ef"
            ],
            [
             0.5,
             "#f7f7f7"
            ],
            [
             0.6,
             "#e6f5d0"
            ],
            [
             0.7,
             "#b8e186"
            ],
            [
             0.8,
             "#7fbc41"
            ],
            [
             0.9,
             "#4d9221"
            ],
            [
             1,
             "#276419"
            ]
           ],
           "sequential": [
            [
             0,
             "#0d0887"
            ],
            [
             0.1111111111111111,
             "#46039f"
            ],
            [
             0.2222222222222222,
             "#7201a8"
            ],
            [
             0.3333333333333333,
             "#9c179e"
            ],
            [
             0.4444444444444444,
             "#bd3786"
            ],
            [
             0.5555555555555556,
             "#d8576b"
            ],
            [
             0.6666666666666666,
             "#ed7953"
            ],
            [
             0.7777777777777778,
             "#fb9f3a"
            ],
            [
             0.8888888888888888,
             "#fdca26"
            ],
            [
             1,
             "#f0f921"
            ]
           ],
           "sequentialminus": [
            [
             0,
             "#0d0887"
            ],
            [
             0.1111111111111111,
             "#46039f"
            ],
            [
             0.2222222222222222,
             "#7201a8"
            ],
            [
             0.3333333333333333,
             "#9c179e"
            ],
            [
             0.4444444444444444,
             "#bd3786"
            ],
            [
             0.5555555555555556,
             "#d8576b"
            ],
            [
             0.6666666666666666,
             "#ed7953"
            ],
            [
             0.7777777777777778,
             "#fb9f3a"
            ],
            [
             0.8888888888888888,
             "#fdca26"
            ],
            [
             1,
             "#f0f921"
            ]
           ]
          },
          "colorway": [
           "#636efa",
           "#EF553B",
           "#00cc96",
           "#ab63fa",
           "#FFA15A",
           "#19d3f3",
           "#FF6692",
           "#B6E880",
           "#FF97FF",
           "#FECB52"
          ],
          "font": {
           "color": "#2a3f5f"
          },
          "geo": {
           "bgcolor": "white",
           "lakecolor": "white",
           "landcolor": "#E5ECF6",
           "showlakes": true,
           "showland": true,
           "subunitcolor": "white"
          },
          "hoverlabel": {
           "align": "left"
          },
          "hovermode": "closest",
          "mapbox": {
           "style": "light"
          },
          "paper_bgcolor": "white",
          "plot_bgcolor": "#E5ECF6",
          "polar": {
           "angularaxis": {
            "gridcolor": "white",
            "linecolor": "white",
            "ticks": ""
           },
           "bgcolor": "#E5ECF6",
           "radialaxis": {
            "gridcolor": "white",
            "linecolor": "white",
            "ticks": ""
           }
          },
          "scene": {
           "xaxis": {
            "backgroundcolor": "#E5ECF6",
            "gridcolor": "white",
            "gridwidth": 2,
            "linecolor": "white",
            "showbackground": true,
            "ticks": "",
            "zerolinecolor": "white"
           },
           "yaxis": {
            "backgroundcolor": "#E5ECF6",
            "gridcolor": "white",
            "gridwidth": 2,
            "linecolor": "white",
            "showbackground": true,
            "ticks": "",
            "zerolinecolor": "white"
           },
           "zaxis": {
            "backgroundcolor": "#E5ECF6",
            "gridcolor": "white",
            "gridwidth": 2,
            "linecolor": "white",
            "showbackground": true,
            "ticks": "",
            "zerolinecolor": "white"
           }
          },
          "shapedefaults": {
           "line": {
            "color": "#2a3f5f"
           }
          },
          "ternary": {
           "aaxis": {
            "gridcolor": "white",
            "linecolor": "white",
            "ticks": ""
           },
           "baxis": {
            "gridcolor": "white",
            "linecolor": "white",
            "ticks": ""
           },
           "bgcolor": "#E5ECF6",
           "caxis": {
            "gridcolor": "white",
            "linecolor": "white",
            "ticks": ""
           }
          },
          "title": {
           "x": 0.05
          },
          "xaxis": {
           "automargin": true,
           "gridcolor": "white",
           "linecolor": "white",
           "ticks": "",
           "title": {
            "standoff": 15
           },
           "zerolinecolor": "white",
           "zerolinewidth": 2
          },
          "yaxis": {
           "automargin": true,
           "gridcolor": "white",
           "linecolor": "white",
           "ticks": "",
           "title": {
            "standoff": 15
           },
           "zerolinecolor": "white",
           "zerolinewidth": 2
          }
         }
        },
        "title": {
         "text": "P-Value Progression for Selected AA Test Instances"
        },
        "xaxis": {
         "title": {
          "text": "Day"
         }
        },
        "yaxis": {
         "title": {
          "text": "P-Value"
         }
        }
       }
      }
     },
     "metadata": {},
     "output_type": "display_data"
    }
   ],
   "source": [
    "def plot_selected_p_values(df_p_values, num_samples=10):\n",
    "    selected_instances = np.random.choice(df_p_values['Instance'].unique(), num_samples, replace=False)\n",
    "    \n",
    "    fig = go.Figure()\n",
    "    for instance in selected_instances:\n",
    "        instance_data = df_p_values[df_p_values['Instance'] == instance]\n",
    "        fig.add_trace(go.Scatter(x=instance_data['Day'], \n",
    "                                 y=instance_data['P_Value'], \n",
    "                                 mode='lines', \n",
    "                                 name=f'Instance {instance}'))\n",
    "    \n",
    "    fig.add_trace(go.Scatter(x=[1, df_p_values['Day'].max()], y=[0.05, 0.05], mode='lines', \n",
    "                             name='Significance Threshold', line=dict(dash='dash', color='red')))\n",
    "    \n",
    "    fig.update_layout(title=\"P-Value Progression for Selected AA Test Instances\", \n",
    "                      xaxis_title=\"Day\", yaxis_title=\"P-Value\")\n",
    "    fig.show()\n",
    "\n",
    "plot_selected_p_values(df_p_values)\n"
   ]
  },
  {
   "cell_type": "code",
   "execution_count": 11,
   "id": "a348d493",
   "metadata": {},
   "outputs": [
    {
     "data": {
      "text/html": [
       "<div>\n",
       "<style scoped>\n",
       "    .dataframe tbody tr th:only-of-type {\n",
       "        vertical-align: middle;\n",
       "    }\n",
       "\n",
       "    .dataframe tbody tr th {\n",
       "        vertical-align: top;\n",
       "    }\n",
       "\n",
       "    .dataframe thead th {\n",
       "        text-align: right;\n",
       "    }\n",
       "</style>\n",
       "<table border=\"1\" class=\"dataframe\">\n",
       "  <thead>\n",
       "    <tr style=\"text-align: right;\">\n",
       "      <th></th>\n",
       "      <th>Instance</th>\n",
       "      <th>False_Positive_Duration</th>\n",
       "      <th>False_Positive_Weekly</th>\n",
       "      <th>False_Positive_Continuous</th>\n",
       "    </tr>\n",
       "  </thead>\n",
       "  <tbody>\n",
       "    <tr>\n",
       "      <th>0</th>\n",
       "      <td>1</td>\n",
       "      <td>False</td>\n",
       "      <td>False</td>\n",
       "      <td>True</td>\n",
       "    </tr>\n",
       "    <tr>\n",
       "      <th>1</th>\n",
       "      <td>2</td>\n",
       "      <td>False</td>\n",
       "      <td>False</td>\n",
       "      <td>False</td>\n",
       "    </tr>\n",
       "    <tr>\n",
       "      <th>2</th>\n",
       "      <td>3</td>\n",
       "      <td>False</td>\n",
       "      <td>False</td>\n",
       "      <td>True</td>\n",
       "    </tr>\n",
       "    <tr>\n",
       "      <th>3</th>\n",
       "      <td>4</td>\n",
       "      <td>False</td>\n",
       "      <td>False</td>\n",
       "      <td>False</td>\n",
       "    </tr>\n",
       "    <tr>\n",
       "      <th>4</th>\n",
       "      <td>5</td>\n",
       "      <td>False</td>\n",
       "      <td>False</td>\n",
       "      <td>False</td>\n",
       "    </tr>\n",
       "  </tbody>\n",
       "</table>\n",
       "</div>"
      ],
      "text/plain": [
       "   Instance  False_Positive_Duration  False_Positive_Weekly  \\\n",
       "0         1                    False                  False   \n",
       "1         2                    False                  False   \n",
       "2         3                    False                  False   \n",
       "3         4                    False                  False   \n",
       "4         5                    False                  False   \n",
       "\n",
       "   False_Positive_Continuous  \n",
       "0                       True  \n",
       "1                      False  \n",
       "2                       True  \n",
       "3                      False  \n",
       "4                      False  "
      ]
     },
     "execution_count": 11,
     "metadata": {},
     "output_type": "execute_result"
    }
   ],
   "source": [
    "df_results.head()"
   ]
  }
 ],
 "metadata": {
  "kernelspec": {
   "display_name": ".venv",
   "language": "python",
   "name": "python3"
  },
  "language_info": {
   "codemirror_mode": {
    "name": "ipython",
    "version": 3
   },
   "file_extension": ".py",
   "mimetype": "text/x-python",
   "name": "python",
   "nbconvert_exporter": "python",
   "pygments_lexer": "ipython3",
   "version": "3.12.3"
  }
 },
 "nbformat": 4,
 "nbformat_minor": 5
}
